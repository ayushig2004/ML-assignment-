{
  "nbformat": 4,
  "nbformat_minor": 0,
  "metadata": {
    "colab": {
      "provenance": []
    },
    "kernelspec": {
      "name": "python3",
      "display_name": "Python 3"
    },
    "language_info": {
      "name": "python"
    }
  },
  "cells": [
    {
      "cell_type": "code",
      "execution_count": null,
      "metadata": {
        "id": "T1NARCVLcr8L"
      },
      "outputs": [],
      "source": []
    },
    {
      "cell_type": "code",
      "execution_count": null,
      "metadata": {
        "id": "HXyQVjn5VCFT"
      },
      "outputs": [],
      "source": [
        "import random\n",
        "import matplotlib.pyplot as plt"
      ]
    },
    {
      "cell_type": "markdown",
      "source": [
        "* we can use random module to pick a random number from the given range, it includes various functions like randint() , random().\n",
        "\n",
        "* Matplotlib is a library in python which can be used for visualization of given data in graphical form."
      ],
      "metadata": {
        "id": "CAvv7iFNJR5s"
      }
    },
    {
      "cell_type": "code",
      "execution_count": null,
      "metadata": {
        "id": "3vAeQvqxYQQc"
      },
      "outputs": [],
      "source": [
        "mapping_dict = dict(zip(range(0,10),range(0,10)))"
      ]
    },
    {
      "cell_type": "markdown",
      "source": [
        "here, we create an dicitonary with the name of mapping_dict and we use zip function beacuse we want to add two different iterable into one . we set range for both the key pairs."
      ],
      "metadata": {
        "id": "5voTbASqB90j"
      }
    },
    {
      "cell_type": "code",
      "execution_count": null,
      "metadata": {
        "colab": {
          "base_uri": "https://localhost:8080/"
        },
        "id": "oBzWrsy2nsoC",
        "outputId": "ecfe9a94-5ae3-46c9-c3b9-75ea50f7cff3"
      },
      "outputs": [
        {
          "output_type": "execute_result",
          "data": {
            "text/plain": [
              "{0: 0, 1: 1, 2: 2, 3: 3, 4: 4, 5: 5, 6: 6, 7: 7, 8: 8, 9: 9}"
            ]
          },
          "metadata": {},
          "execution_count": 3
        }
      ],
      "source": [
        "mapping_dict"
      ]
    },
    {
      "cell_type": "markdown",
      "source": [
        "now , we print our mapping_dict dictionary."
      ],
      "metadata": {
        "id": "LXSnsX7vB4Lk"
      }
    },
    {
      "cell_type": "code",
      "execution_count": null,
      "metadata": {
        "id": "ghEVfaoApjSN"
      },
      "outputs": [],
      "source": [
        "for k in mapping_dict.keys():\n",
        "\n",
        "  mapping_dict[k] = str(mapping_dict[k])"
      ]
    },
    {
      "cell_type": "markdown",
      "source": [
        "we set an loop over dictionary that iterate over all the key pairs, and we take a key 'k' and access in mapping_dict then we set its value as string using the 'str()' function and then assigning it back to the same key."
      ],
      "metadata": {
        "id": "u1ZyCQpKC2Os"
      }
    },
    {
      "cell_type": "code",
      "execution_count": null,
      "metadata": {
        "colab": {
          "base_uri": "https://localhost:8080/"
        },
        "id": "VKAyIsW6q_qS",
        "outputId": "6a3d4a3f-b8b9-4088-9ca0-f7daa347d8f1"
      },
      "outputs": [
        {
          "output_type": "execute_result",
          "data": {
            "text/plain": [
              "{0: '0',\n",
              " 1: '1',\n",
              " 2: '2',\n",
              " 3: '3',\n",
              " 4: '4',\n",
              " 5: '5',\n",
              " 6: '6',\n",
              " 7: '7',\n",
              " 8: '8',\n",
              " 9: '9'}"
            ]
          },
          "metadata": {},
          "execution_count": 5
        }
      ],
      "source": [
        "mapping_dict"
      ]
    },
    {
      "cell_type": "markdown",
      "source": [
        "we again print our mapping_dict but now there is a change . keys pair shows the value in string."
      ],
      "metadata": {
        "id": "e8ZB3yvHFQXd"
      }
    },
    {
      "cell_type": "code",
      "execution_count": null,
      "metadata": {
        "id": "GowosEpVrXfK"
      },
      "outputs": [],
      "source": [
        "for i in range(0,26):\n",
        "  mapping_dict[10+i] = chr(65+i)"
      ]
    },
    {
      "cell_type": "markdown",
      "source": [
        "* this set up a loop over the dictionary with range of between (0 to 26), then it takes each number of given range as i ,\n",
        "\n",
        "* In mapping_dict[10+i], it adds the value as per given range.\n",
        "\n",
        "* the chr() function corresponds to the ASCII values as (A to Z)\n",
        "\n",
        "* chr(65+i) it convert numerical value into charachter as per their ASCII code."
      ],
      "metadata": {
        "id": "SJMy6d7KGApj"
      }
    },
    {
      "cell_type": "code",
      "execution_count": null,
      "metadata": {
        "colab": {
          "base_uri": "https://localhost:8080/"
        },
        "id": "beprdUCauVOp",
        "outputId": "cbb35fd0-15b5-4ff6-f547-58409cff5e86"
      },
      "outputs": [
        {
          "output_type": "execute_result",
          "data": {
            "text/plain": [
              "{0: '0',\n",
              " 1: '1',\n",
              " 2: '2',\n",
              " 3: '3',\n",
              " 4: '4',\n",
              " 5: '5',\n",
              " 6: '6',\n",
              " 7: '7',\n",
              " 8: '8',\n",
              " 9: '9',\n",
              " 10: 'A',\n",
              " 11: 'B',\n",
              " 12: 'C',\n",
              " 13: 'D',\n",
              " 14: 'E',\n",
              " 15: 'F',\n",
              " 16: 'G',\n",
              " 17: 'H',\n",
              " 18: 'I',\n",
              " 19: 'J',\n",
              " 20: 'K',\n",
              " 21: 'L',\n",
              " 22: 'M',\n",
              " 23: 'N',\n",
              " 24: 'O',\n",
              " 25: 'P',\n",
              " 26: 'Q',\n",
              " 27: 'R',\n",
              " 28: 'S',\n",
              " 29: 'T',\n",
              " 30: 'U',\n",
              " 31: 'V',\n",
              " 32: 'W',\n",
              " 33: 'X',\n",
              " 34: 'Y',\n",
              " 35: 'Z'}"
            ]
          },
          "metadata": {},
          "execution_count": 7
        }
      ],
      "source": [
        "mapping_dict"
      ]
    },
    {
      "cell_type": "markdown",
      "source": [
        "we print our mapping_dict , this time the dictionary having values upto 35 , where 0 to 9 indicates the numerical values and 10 to 35 shows alphabets."
      ],
      "metadata": {
        "id": "wzdwBVQZHvIK"
      }
    },
    {
      "cell_type": "code",
      "execution_count": null,
      "metadata": {
        "id": "KPGkS2NXVMGn"
      },
      "outputs": [],
      "source": [
        "random_numbers = list()\n",
        "\n",
        "for i in range(0,10000):\n",
        "\n",
        "  blank_str = str()\n",
        "\n",
        "  random_digit = random.randint(0,35)\n",
        "  blank_str = blank_str + mapping_dict[random_digit]\n",
        "\n",
        "  random_digit = random.randint(0,35)\n",
        "  blank_str = blank_str + mapping_dict[random_digit]\n",
        "\n",
        "  for i in range(0,8):\n",
        "    coin_toss = random.randint(0,1)\n",
        "\n",
        "    if coin_toss == 1:\n",
        "\n",
        "      random_digit = random.randint(0,35)\n",
        "      blank_str = blank_str + mapping_dict[random_digit]\n",
        "\n",
        "    else:\n",
        "      break\n",
        "\n",
        "  random_numbers.append(blank_str)"
      ]
    },
    {
      "cell_type": "markdown",
      "source": [
        "* firstly, we create an empty list with the name of random_numbers.\n",
        "\n",
        "* Then we start an loop over the range between (0 to 10,000) for each iteration.\n",
        "\n",
        "* we initialize blank_str as str() for each iteration.\n",
        "\n",
        "* we use random.randint(0,35), to generate a random number between to 0 to 35,\n",
        "\n",
        "* we use the random_digit in the index of mapping_dict to get an charachter and then append the charachter in our blank_str.\n",
        "\n",
        "* repeat the same process to generate the charachter one more time and append it in blank_str.\n",
        "\n",
        "* Then, we start an inner loop having range of (0 to 8) , and perform an coin _toss task which returns the value as 0 or 1.\n",
        "\n",
        "* In inner loop , we use an if-else statement-\n",
        "\n",
        "* if the coin_toss returns the value '1', we generate an random number from mapping_dict and append it into the blank_str.\n",
        "\n",
        "* else the condition is breaked.\n",
        "\n",
        "* finally, we append the blank_str into the random_number list().\n"
      ],
      "metadata": {
        "id": "NZq45yB-I9Rd"
      }
    },
    {
      "cell_type": "code",
      "execution_count": null,
      "metadata": {
        "id": "Q2nV3-Jgv-GR"
      },
      "outputs": [],
      "source": [
        "reverse_mapping_dict = dict()\n",
        "\n",
        "for k in mapping_dict.keys():\n",
        "  reverse_mapping_dict[mapping_dict[k]] = k"
      ]
    },
    {
      "cell_type": "markdown",
      "source": [
        "*  here, we create an empty dictionary named as reverse_mapping_dict.\n",
        "\n",
        "*  we start an loop over our mapping_dict.keys().\n",
        "\n",
        "* now, it take each 'k' from mapping_dict and access its value using [mapping_dict[k]] , then it reverse its value as key, and key as value."
      ],
      "metadata": {
        "id": "6FEXM6P3O36N"
      }
    },
    {
      "cell_type": "code",
      "execution_count": null,
      "metadata": {
        "id": "ba745hqvyubF"
      },
      "outputs": [],
      "source": [
        "base_frequency = dict()\n",
        "\n",
        "for blank_str in random_numbers:\n",
        "  highest_digit = max(blank_str)\n",
        "  highest_base = reverse_mapping_dict[highest_digit] + 1\n",
        "\n",
        "  if highest_base in base_frequency.keys():\n",
        "    base_frequency[highest_base] += 1\n",
        "  else:\n",
        "    base_frequency[highest_base] = 1"
      ]
    },
    {
      "cell_type": "markdown",
      "source": [
        "* we create a dictionary with a name of base_frequency.\n",
        "\n",
        "* we start an loop for 'blank_str' in our random_numbers list.\n",
        "\n",
        "* then, we find highest_digit in our blank_str using the max() function.\n",
        "\n",
        "* we find the highest_base with the help of the highest_digit in the reverse_mapping_dict and then incerement it by 1.\n",
        "\n",
        "* now, we use an If else statement-\n",
        "\n",
        "* If the highest_base is already a key in base_frequency then highest_base increments by one.\n",
        "\n",
        "* else we set highest_base to 1."
      ],
      "metadata": {
        "id": "w22JLE42RQIU"
      }
    },
    {
      "cell_type": "code",
      "execution_count": null,
      "metadata": {
        "id": "p7d57Lu4yqud",
        "colab": {
          "base_uri": "https://localhost:8080/",
          "height": 447
        },
        "outputId": "8c9ef625-80a8-4a2b-a6dd-df25b4b7679a"
      },
      "outputs": [
        {
          "output_type": "execute_result",
          "data": {
            "text/plain": [
              "<BarContainer object of 36 artists>"
            ]
          },
          "metadata": {},
          "execution_count": 17
        },
        {
          "output_type": "display_data",
          "data": {
            "text/plain": [
              "<Figure size 640x480 with 1 Axes>"
            ],
            "image/png": "[encoded data removed]"
          },
          "metadata": {}
        }
      ],
      "source": [
        "plt.bar(x=base_frequency.keys(),height=base_frequency.values())"
      ]
    },
    {
      "cell_type": "markdown",
      "source": [
        "here, we use plt.bar() function with the help of matplotlib library, which reprents a bar graph between the base.frequency.keys() and the base.frequency.values()."
      ],
      "metadata": {
        "id": "vK0TfZqvWJvP"
      }
    }
  ]
}